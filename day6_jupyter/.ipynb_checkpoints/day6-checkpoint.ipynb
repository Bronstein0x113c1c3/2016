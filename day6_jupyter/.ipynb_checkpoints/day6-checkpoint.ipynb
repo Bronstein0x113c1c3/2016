{
 "cells": [
  {
   "cell_type": "code",
   "execution_count": 1,
   "metadata": {},
   "outputs": [],
   "source": [
    "\n",
    "\n",
    "import (\n",
    "\t\"fmt\"\n",
    "\t\"os\"\n",
    "\t\"text/template\"\n",
    ")\n",
    "\n"
   ]
  },
  {
   "cell_type": "code",
   "execution_count": 2,
   "metadata": {},
   "outputs": [
    {
     "name": "stdout",
     "output_type": "stream",
     "text": [
      "Name: Bronstein\n",
      "ID: 1624640\n",
      "Name: Vladimir\n",
      "ID: 20218105\n"
     ]
    }
   ],
   "source": [
    "\n",
    "\tt, err := template.New(\"Bonjour\").\n",
    "\tParse(`{{range .List}}Name: {{.Name}}\n",
    "ID: {{.ID}}\n",
    "{{end}}`)\n",
    "\tif err != nil {\n",
    "\t\tfmt.Println(\"Some problem in creating template.....\")\n",
    "\t\tos.Exit(1)\n",
    "\t}\n",
    "\tlists := []struct {\n",
    "\t\tName string\n",
    "\t\tID   string\n",
    "\t}{\n",
    "\t\t{\n",
    "\t\t\tName: \"Bronstein\",\n",
    "\t\t\tID:   \"1624640\",\n",
    "\t\t},\n",
    "\t\t{\n",
    "\t\t\tName: \"Vladimir\",\n",
    "\t\t\tID:   \"20218105\",\n",
    "\t\t},\n",
    "\t}\n",
    "\tif err = t.Execute(os.Stdout, struct {\n",
    "\t\tList []struct {\n",
    "\t\t\tName string\n",
    "\t\t\tID   string\n",
    "\t\t}\n",
    "\t}{lists}); err != nil {\n",
    "\t\tfmt.Println(\"Cannot parse.....\")\n",
    "\t\tos.Exit(1)\n",
    "\t}\n",
    "\n",
    "\n"
   ]
  },
  {
   "cell_type": "code",
   "execution_count": null,
   "metadata": {},
   "outputs": [],
   "source": []
  }
 ],
 "metadata": {
  "kernelspec": {
   "display_name": "Go",
   "language": "go",
   "name": "gophernotes"
  },
  "language_info": {
   "codemirror_mode": "",
   "file_extension": ".go",
   "mimetype": "",
   "name": "go",
   "nbconvert_exporter": "",
   "pygments_lexer": "",
   "version": "go1.21.4"
  }
 },
 "nbformat": 4,
 "nbformat_minor": 2
}
