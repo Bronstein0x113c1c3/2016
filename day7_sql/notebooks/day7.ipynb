{
 "cells": [
  {
   "cell_type": "markdown",
   "metadata": {},
   "source": [
    "it's time for setting things up......"
   ]
  },
  {
   "cell_type": "code",
   "execution_count": 36,
   "metadata": {},
   "outputs": [],
   "source": [
    "import (\n",
    "    \"fmt\"\n",
    "    \"database/sql\"\n",
    "    _\"github.com/go-sql-driver/mysql\"\n",
    ")"
   ]
  },
  {
   "cell_type": "markdown",
   "metadata": {},
   "source": [
    "after importing, do the testing first......"
   ]
  },
  {
   "cell_type": "code",
   "execution_count": 37,
   "metadata": {},
   "outputs": [],
   "source": [
    "type Info struct{\n",
    "\tName string\n",
    "\tID int\n",
    "}"
   ]
  },
  {
   "cell_type": "code",
   "execution_count": 40,
   "metadata": {},
   "outputs": [],
   "source": [
    "func initdb(username, pass, host, port, db_name string) *sql.DB{\n",
    "\tdb,_:= sql.Open(\"mysql\",fmt.Sprintf(\"%v:%v@tcp(%v:%v)/%v\",username, pass,host,port,db_name))\n",
    "\treturn db\n",
    "}"
   ]
  },
  {
   "cell_type": "code",
   "execution_count": null,
   "metadata": {},
   "outputs": [
    {
     "name": "stdout",
     "output_type": "stream",
     "text": [
      "Done\n"
     ]
    }
   ],
   "source": [
    "%%\n",
    "db:= initdb(\"root\",\"0x113c1c3\",\"mysql\",\"3306\",\"testing\")\n",
    "if db==nil{\n",
    "\tfmt.Println(\"Error\")\n",
    "\tos.Exit(1)\n",
    "} else {\n",
    "\tfmt.Println(\"Done\")\n",
    "}"
   ]
  },
  {
   "cell_type": "code",
   "execution_count": null,
   "metadata": {},
   "outputs": [],
   "source": [
    "db:= initdb(\"root\",\"0x113c1c3\",\"mysql\",\"3306\",\"testing\")\n",
    "if db==nil{\n",
    "\tfmt.Println(\"Error\")\n",
    "\tos.Exit(1)\n",
    "} else {\n",
    "\tfmt.Println(\"Done\")\n",
    "}\n",
    "defer db.Close()\n",
    "rows, err := db.Query(\"SELECT * FROM student_info\")\n",
    "if err!=nil{\n",
    "\tfmt.Println(\"Query problem.....\")\n",
    "\treturn\n",
    "}\n",
    "defer rows.Close()\n",
    "for rows.Next() {\n",
    "\t\tvar student Info\n",
    "\t\trows.Scan(&student.ID, &student.Name)\n",
    "\t\tfmt.Println(student)\n",
    "}\n",
    "return"
   ]
  }
 ],
 "metadata": {
  "kernelspec": {
   "display_name": "Go (gonb)",
   "language": "go",
   "name": "gonb"
  },
  "language_info": {
   "codemirror_mode": "",
   "file_extension": ".go",
   "mimetype": "",
   "name": "go",
   "nbconvert_exporter": "",
   "pygments_lexer": "",
   "version": "go1.21.3"
  }
 },
 "nbformat": 4,
 "nbformat_minor": 4
}
