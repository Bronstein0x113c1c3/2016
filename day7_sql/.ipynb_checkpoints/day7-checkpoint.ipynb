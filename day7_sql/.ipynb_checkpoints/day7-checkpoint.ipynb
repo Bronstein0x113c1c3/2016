{
 "cells": [
  {
   "cell_type": "code",
   "execution_count": 8,
   "metadata": {},
   "outputs": [],
   "source": [
    "%go111module on"
   ]
  },
  {
   "cell_type": "code",
   "execution_count": 9,
   "metadata": {},
   "outputs": [],
   "source": [
    "$ go get github.com/go-sql-driver/mysql@latest"
   ]
  },
  {
   "cell_type": "code",
   "execution_count": 10,
   "metadata": {},
   "outputs": [],
   "source": [
    "import (\n",
    "\t\"database/sql\"\n",
    "\t\"github.com/go-sql-driver/mysql\"\n",
    ")\n"
   ]
  },
  {
   "cell_type": "code",
   "execution_count": 11,
   "metadata": {},
   "outputs": [
    {
     "ename": "ERROR",
     "evalue": "repl.go:1:8: undefined \"mysql\" in mysql.Config <*ast.SelectorExpr>",
     "output_type": "error",
     "traceback": [
      "repl.go:1:8: undefined \"mysql\" in mysql.Config <*ast.SelectorExpr>"
     ]
    }
   ],
   "source": [
    "cfg := mysql.Config{\n",
    "\tUser:   \"root\",\n",
    "\tPasswd: \"0x113c1c3\",\n",
    "\tNet:    \"tcp\",\n",
    "\tAddr:   \"127.0.0.1:3306\",\n",
    "\tDBName: \"testing\",\n",
    "}\n",
    "// Get a database handle.\n",
    "var err error\n",
    "db, err = sql.Open(\"mysql\", cfg.FormatDSN())\n",
    "if err != nil {\n",
    "\tlog.Fatal(err)\n",
    "}\n",
    "\n",
    "pingErr := db.Ping()\n",
    "if pingErr != nil {\n",
    "\tlog.Fatal(pingErr)\n",
    "}\n",
    "fmt.Println(\"Connected!\")"
   ]
  },
  {
   "cell_type": "code",
   "execution_count": null,
   "metadata": {},
   "outputs": [],
   "source": []
  },
  {
   "cell_type": "code",
   "execution_count": null,
   "metadata": {},
   "outputs": [],
   "source": []
  }
 ],
 "metadata": {
  "kernelspec": {
   "display_name": "Go",
   "language": "go",
   "name": "gophernotes"
  },
  "language_info": {
   "codemirror_mode": "",
   "file_extension": ".go",
   "mimetype": "",
   "name": "go",
   "nbconvert_exporter": "",
   "pygments_lexer": "",
   "version": "go1.21.4"
  }
 },
 "nbformat": 4,
 "nbformat_minor": 2
}
