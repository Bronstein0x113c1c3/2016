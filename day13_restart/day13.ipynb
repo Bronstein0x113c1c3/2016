{
 "cells": [
  {
   "cell_type": "code",
   "execution_count": 12,
   "metadata": {},
   "outputs": [],
   "source": [
    "import (\n",
    "\t_\"github.com/go-sql-driver/mysql\"\n",
    "\t\"database/sql\"\n",
    ")"
   ]
  },
  {
   "cell_type": "code",
   "execution_count": 13,
   "metadata": {},
   "outputs": [],
   "source": [
    "import \"fmt\""
   ]
  },
  {
   "cell_type": "code",
   "execution_count": 14,
   "metadata": {},
   "outputs": [
    {
     "name": "stdout",
     "output_type": "stream",
     "text": [
      "Hello World\n"
     ]
    }
   ],
   "source": [
    "%%\n",
    "fmt.Println(\"Hello World\")"
   ]
  },
  {
   "cell_type": "code",
   "execution_count": 15,
   "metadata": {},
   "outputs": [],
   "source": [
    "func setup(user, password, host,schema string, port int) *sql.DB{\n",
    "\tconnection_string:= fmt.Sprintf(\"%v:%v@tcp(%v:%v)/%v\",user,password,host,port,schema)\n",
    "\tfmt.Println(connection_string)\n",
    "\tdb,err:= sql.Open(\"mysql\", connection_string)\n",
    "\tif err!=nil{\n",
    "\t\treturn nil\n",
    "\t} \n",
    "\treturn db\n",
    "}"
   ]
  },
  {
   "cell_type": "code",
   "execution_count": 16,
   "metadata": {},
   "outputs": [
    {
     "name": "stdout",
     "output_type": "stream",
     "text": [
      "root:0x113c1c3@tcp(0.0.0.0:3308)/students\n",
      "Done!!!!\n"
     ]
    }
   ],
   "source": [
    "%%\n",
    "db := setup(\"root\",\"0x113c1c3\",\"0.0.0.0\",\"students\",3308)\n",
    "if db==nil{\n",
    "\tfmt.Println(\"Problem encountered....\")\n",
    "\treturn\n",
    "}\n",
    "fmt.Println(\"Done!!!!\")\n",
    "\n"
   ]
  },
  {
   "cell_type": "code",
   "execution_count": null,
   "metadata": {},
   "outputs": [],
   "source": []
  }
 ],
 "metadata": {
  "kernelspec": {
   "display_name": "Go (gonb)",
   "language": "go",
   "name": "gonb"
  },
  "language_info": {
   "codemirror_mode": "",
   "file_extension": ".go",
   "mimetype": "",
   "name": "go",
   "nbconvert_exporter": "",
   "pygments_lexer": "",
   "version": "go1.21.3"
  }
 },
 "nbformat": 4,
 "nbformat_minor": 2
}
